{
 "cells": [
  {
   "cell_type": "markdown",
   "metadata": {},
   "source": [
    "# Supervised Machine Learning Algorithm\n",
    "Supervised learning can be further divided into several different types, each with its own unique characteristics and applications. Here are some of the most common types of supervised learning algorithms:\n",
    "\n",
    "1. Linear Regression: Linear regression is a type of regression algorithm that is used to predict a continuous output value. It is one of the simplest and most widely used algorithms in supervised learning. In linear regression, the algorithm tries to find a linear relationship between the input features and the output value. The output value is predicted based on the weighted sum of the input features. <br><br>\n",
    "2. Logistic Regression: Logistic regression is a type of classification algorithm that is used to predict a binary output variable. It is commonly used in machine learning applications where the output variable is either true or false, such as in fraud detection or spam filtering. In logistic regression, the algorithm tries to find a linear relationship between the input features and the output variable. The output variable is then transformed using a logistic function to produce a probability value between 0 and 1. <br><br>\n",
    "3. Decision Trees: Decision tree is a tree-like structure that is used to model decisions and their possible consequences. Each internal node in the tree represents a decision, while each leaf node represents a possible outcome. Decision trees can be used to model complex relationships between input features and output variables.\n",
    "A decision tree is a type of algorithm that is used for both classification and regression tasks.\n",
    "Decision Trees Regression: Decision Trees can be utilized for regression tasks by predicting the value linked with a leaf node.\n",
    "Decision Trees Classification: Random Forest is a machine learning algorithm that uses multiple decision trees to improve classification and prevent overfitting.<br><br>\n",
    "4. Random Forests: Random forests are made up of multiple decision trees that work together to make predictions. Each tree in the forest is trained on a different subset of the input features and data. The final prediction is made by aggregating the predictions of all the trees in the forest.\n",
    "Random forests are an ensemble learning technique that is used for both classification and regression tasks.\n",
    "Random Forest Regression: It combines multiple decision trees to reduce overfitting and improve prediction accuracy.\n",
    "Random Forest Classifier: Combines several decision trees to improve the accuracy of classification while minimizing overfitting.<br><br>\n",
    "5. Support Vector Machine(SVM): The SVM algorithm creates a hyperplane to segregate n-dimensional space into classes and identify the correct category of new data points. The extreme cases that help create the hyperplane are called support vectors, hence the name Support Vector Machine.\n",
    "A Support Vector Machine is a type of algorithm that is used for both classification and regression tasks\n",
    "Support Vector Regression: It is a extension of Support Vector Machines (SVM) used for predicting continuous values.\n",
    "Support Vector Classifier: It aims to find the best hyperplane that maximizes the margin between data points of different classes.<br><br>\n",
    "6. K-Nearest Neighbors (KNN): KNN works by finding k training examples closest to a given input and then predicts the class or value based on the majority class or average value of these neighbors. The performance of KNN can be influenced by the choice of k and the distance metric used to measure proximity. However, it is intuitive but can be sensitive to noisy data and requires careful selection of k for optimal results.\n",
    "A K-Nearest Neighbors (KNN) is a type of algorithm that is used for both classification and regression tasks.\n",
    "K-Nearest Neighbors Regression: It predicts continuous values by averaging the outputs of the k closest neighbors.\n",
    "K-Nearest Neighbors Classification: Data points are classified based on the majority class of their k closest neighbors.<br><br>\n",
    "7. Gradient Boosting: Gradient Boosting combines weak learners, like decision trees, to create a strong model. It iteratively builds new models that correct errors made by previous ones. Each new model is trained to minimize residual errors, resulting in a powerful predictor capable of handling complex data relationships.\n",
    "A Gradient Boosting is a type of algorithm that is used for both classification and regression tasks.\n",
    "Gradient Boosting Regression: It builds an ensemble of weak learners to improve prediction accuracy through iterative training.\n",
    "Gradient Boosting Classification: Creates a group of classifiers to continually enhance the accuracy of predictions through iterations.<br><br>"
   ]
  },
  {
   "cell_type": "markdown",
   "metadata": {},
   "source": []
  }
 ],
 "metadata": {
  "language_info": {
   "name": "python"
  }
 },
 "nbformat": 4,
 "nbformat_minor": 2
}
